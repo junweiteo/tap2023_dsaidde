{
 "cells": [
  {
   "cell_type": "code",
   "execution_count": 1,
   "metadata": {},
   "outputs": [],
   "source": [
    "import pandas as pd"
   ]
  },
  {
   "cell_type": "code",
   "execution_count": 29,
   "metadata": {},
   "outputs": [],
   "source": [
    "os.environ.get('AIRFLOW_CONFIG')"
   ]
  },
  {
   "cell_type": "code",
   "execution_count": 37,
   "metadata": {},
   "outputs": [
    {
     "data": {
      "text/plain": [
       "'/Users/junwei/Desktop/tap2023_dsaidde'"
      ]
     },
     "execution_count": 37,
     "metadata": {},
     "output_type": "execute_result"
    }
   ],
   "source": [
    "os.getcwd()"
   ]
  },
  {
   "cell_type": "code",
   "execution_count": 10,
   "metadata": {},
   "outputs": [],
   "source": [
    "import sys\n",
    "sys.path.append('/Users/junwei/Desktop/tap2023_dsaidde/section1/scripts')\n",
    "import data_processing"
   ]
  },
  {
   "cell_type": "code",
   "execution_count": 13,
   "metadata": {},
   "outputs": [
    {
     "name": "stdout",
     "output_type": "stream",
     "text": [
      "dataset1.csv\n",
      "dataset2.csv\n"
     ]
    }
   ],
   "source": [
    "data_processing.process()"
   ]
  },
  {
   "cell_type": "code",
   "execution_count": 12,
   "metadata": {},
   "outputs": [
    {
     "data": {
      "text/plain": [
       "['dataset1.csv', 'dataset2.csv']"
      ]
     },
     "execution_count": 12,
     "metadata": {},
     "output_type": "execute_result"
    }
   ],
   "source": [
    "from os import listdir\n",
    "def find_csv_filenames(path_to_dir, suffix=\".csv\" ):\n",
    "    filenames = listdir(path_to_dir)\n",
    "    return [ filename for filename in filenames if filename.endswith( suffix ) ]\n",
    "filenames = find_csv_filenames(\"/Users/junwei/Desktop/tap2023_dsaidde/section1/data\")\n",
    "filenames"
   ]
  },
  {
   "cell_type": "code",
   "execution_count": 9,
   "metadata": {},
   "outputs": [
    {
     "data": {
      "text/plain": [
       "['dataset1.csv', 'dataset2.csv']"
      ]
     },
     "execution_count": 9,
     "metadata": {},
     "output_type": "execute_result"
    }
   ],
   "source": [
    "filenames = listdir('/Users/junwei/Desktop/tap2023_dsaidde/section1/data')\n",
    "[filename for filename in filenames if filename.endswith('.csv')]"
   ]
  },
  {
   "cell_type": "code",
   "execution_count": 46,
   "metadata": {},
   "outputs": [],
   "source": [
    "os.chdir(\"../\")"
   ]
  },
  {
   "cell_type": "code",
   "execution_count": 22,
   "metadata": {},
   "outputs": [
    {
     "name": "stdout",
     "output_type": "stream",
     "text": [
      "dataset1.csv\n",
      "dataset2.csv\n"
     ]
    }
   ],
   "source": [
    "import glob\n",
    "import os\n",
    "\n",
    "path = 'data/'\n",
    "extension = 'csv'\n",
    "os.chdir(path)\n",
    "\n",
    "files = glob.glob('*.{}'.format(extension))\n",
    "for f in files:\n",
    "    print(f)\n",
    "    df = pd.read_csv(f)\n",
    "    df.dropna(subset=['name'], inplace=True)\n",
    "    df['price'] = df['price'].astype(float)\n",
    "    df['first_name'] = [x.split(' ')[0] for x in df['name']]\n",
    "    df['last_name'] = [x.split(' ')[1] for x in df['name']]\n",
    "    df['above_100'] = df['price'] > 100\n",
    "    os.chdir(\"../\")\n",
    "    os.chdir('processed/')\n",
    "    df.to_csv('processed_' + f, index=False)\n",
    "    os.chdir(\"../\")\n",
    "    os.chdir(path)"
   ]
  },
  {
   "cell_type": "code",
   "execution_count": 4,
   "metadata": {},
   "outputs": [],
   "source": [
    "# df = pd.read_csv('data/dataset1.csv')\n",
    "df = pd.read_csv('data/dataset2.csv')"
   ]
  },
  {
   "cell_type": "code",
   "execution_count": 18,
   "metadata": {},
   "outputs": [],
   "source": [
    "df.dropna(subset=['name'], inplace=True)\n",
    "df['price'] = df['price'].astype(float)\n",
    "df['first_name'] = [x.split(' ')[0] for x in df['name']]\n",
    "df['last_name'] = [x.split(' ')[1] for x in df['name']]\n",
    "df['above_100'] = df['price'] > 100"
   ]
  },
  {
   "cell_type": "code",
   "execution_count": 21,
   "metadata": {},
   "outputs": [
    {
     "data": {
      "text/html": [
       "<div>\n",
       "<style scoped>\n",
       "    .dataframe tbody tr th:only-of-type {\n",
       "        vertical-align: middle;\n",
       "    }\n",
       "\n",
       "    .dataframe tbody tr th {\n",
       "        vertical-align: top;\n",
       "    }\n",
       "\n",
       "    .dataframe thead th {\n",
       "        text-align: right;\n",
       "    }\n",
       "</style>\n",
       "<table border=\"1\" class=\"dataframe\">\n",
       "  <thead>\n",
       "    <tr style=\"text-align: right;\">\n",
       "      <th></th>\n",
       "      <th>name</th>\n",
       "      <th>price</th>\n",
       "      <th>first_name</th>\n",
       "      <th>last_name</th>\n",
       "      <th>above_100</th>\n",
       "    </tr>\n",
       "  </thead>\n",
       "  <tbody>\n",
       "    <tr>\n",
       "      <th>0</th>\n",
       "      <td>William Garcia</td>\n",
       "      <td>258.180909</td>\n",
       "      <td>William</td>\n",
       "      <td>Garcia</td>\n",
       "      <td>True</td>\n",
       "    </tr>\n",
       "    <tr>\n",
       "      <th>1</th>\n",
       "      <td>Barbara Freeman</td>\n",
       "      <td>141.890534</td>\n",
       "      <td>Barbara</td>\n",
       "      <td>Freeman</td>\n",
       "      <td>True</td>\n",
       "    </tr>\n",
       "    <tr>\n",
       "      <th>2</th>\n",
       "      <td>Rebecca Zimmerman</td>\n",
       "      <td>293.373272</td>\n",
       "      <td>Rebecca</td>\n",
       "      <td>Zimmerman</td>\n",
       "      <td>True</td>\n",
       "    </tr>\n",
       "    <tr>\n",
       "      <th>3</th>\n",
       "      <td>Patricia Velasquez</td>\n",
       "      <td>249.947925</td>\n",
       "      <td>Patricia</td>\n",
       "      <td>Velasquez</td>\n",
       "      <td>True</td>\n",
       "    </tr>\n",
       "    <tr>\n",
       "      <th>4</th>\n",
       "      <td>Ronnie Clark</td>\n",
       "      <td>272.908659</td>\n",
       "      <td>Ronnie</td>\n",
       "      <td>Clark</td>\n",
       "      <td>True</td>\n",
       "    </tr>\n",
       "    <tr>\n",
       "      <th>...</th>\n",
       "      <td>...</td>\n",
       "      <td>...</td>\n",
       "      <td>...</td>\n",
       "      <td>...</td>\n",
       "      <td>...</td>\n",
       "    </tr>\n",
       "    <tr>\n",
       "      <th>4995</th>\n",
       "      <td>Rachel Davis</td>\n",
       "      <td>95.253955</td>\n",
       "      <td>Rachel</td>\n",
       "      <td>Davis</td>\n",
       "      <td>False</td>\n",
       "    </tr>\n",
       "    <tr>\n",
       "      <th>4996</th>\n",
       "      <td>Connie Hamilton</td>\n",
       "      <td>205.396685</td>\n",
       "      <td>Connie</td>\n",
       "      <td>Hamilton</td>\n",
       "      <td>True</td>\n",
       "    </tr>\n",
       "    <tr>\n",
       "      <th>4997</th>\n",
       "      <td>Sean Kaiser</td>\n",
       "      <td>80.547371</td>\n",
       "      <td>Sean</td>\n",
       "      <td>Kaiser</td>\n",
       "      <td>False</td>\n",
       "    </tr>\n",
       "    <tr>\n",
       "      <th>4998</th>\n",
       "      <td>Ebony Rodriguez</td>\n",
       "      <td>93.205616</td>\n",
       "      <td>Ebony</td>\n",
       "      <td>Rodriguez</td>\n",
       "      <td>False</td>\n",
       "    </tr>\n",
       "    <tr>\n",
       "      <th>4999</th>\n",
       "      <td>Gregg Alexander</td>\n",
       "      <td>297.046886</td>\n",
       "      <td>Gregg</td>\n",
       "      <td>Alexander</td>\n",
       "      <td>True</td>\n",
       "    </tr>\n",
       "  </tbody>\n",
       "</table>\n",
       "<p>4961 rows × 5 columns</p>\n",
       "</div>"
      ],
      "text/plain": [
       "                    name       price first_name  last_name  above_100\n",
       "0         William Garcia  258.180909    William     Garcia       True\n",
       "1        Barbara Freeman  141.890534    Barbara    Freeman       True\n",
       "2      Rebecca Zimmerman  293.373272    Rebecca  Zimmerman       True\n",
       "3     Patricia Velasquez  249.947925   Patricia  Velasquez       True\n",
       "4           Ronnie Clark  272.908659     Ronnie      Clark       True\n",
       "...                  ...         ...        ...        ...        ...\n",
       "4995        Rachel Davis   95.253955     Rachel      Davis      False\n",
       "4996     Connie Hamilton  205.396685     Connie   Hamilton       True\n",
       "4997         Sean Kaiser   80.547371       Sean     Kaiser      False\n",
       "4998     Ebony Rodriguez   93.205616      Ebony  Rodriguez      False\n",
       "4999     Gregg Alexander  297.046886      Gregg  Alexander       True\n",
       "\n",
       "[4961 rows x 5 columns]"
      ]
     },
     "execution_count": 21,
     "metadata": {},
     "output_type": "execute_result"
    }
   ],
   "source": [
    "df"
   ]
  },
  {
   "cell_type": "code",
   "execution_count": 9,
   "metadata": {},
   "outputs": [
    {
     "ename": "FileNotFoundError",
     "evalue": "[Errno 2] No such file or directory: 'data/'",
     "output_type": "error",
     "traceback": [
      "\u001b[0;31m---------------------------------------------------------------------------\u001b[0m",
      "\u001b[0;31mFileNotFoundError\u001b[0m                         Traceback (most recent call last)",
      "\u001b[0;32m<ipython-input-9-4d14376439e6>\u001b[0m in \u001b[0;36m<module>\u001b[0;34m\u001b[0m\n\u001b[1;32m      1\u001b[0m \u001b[0mpath\u001b[0m \u001b[0;34m=\u001b[0m \u001b[0;34m'data/'\u001b[0m\u001b[0;34m\u001b[0m\u001b[0;34m\u001b[0m\u001b[0m\n\u001b[1;32m      2\u001b[0m \u001b[0mextension\u001b[0m \u001b[0;34m=\u001b[0m \u001b[0;34m'csv'\u001b[0m\u001b[0;34m\u001b[0m\u001b[0;34m\u001b[0m\u001b[0m\n\u001b[0;32m----> 3\u001b[0;31m \u001b[0mos\u001b[0m\u001b[0;34m.\u001b[0m\u001b[0mchdir\u001b[0m\u001b[0;34m(\u001b[0m\u001b[0mpath\u001b[0m\u001b[0;34m)\u001b[0m\u001b[0;34m\u001b[0m\u001b[0;34m\u001b[0m\u001b[0m\n\u001b[0m\u001b[1;32m      4\u001b[0m \u001b[0mfiles\u001b[0m \u001b[0;34m=\u001b[0m \u001b[0mglob\u001b[0m\u001b[0;34m.\u001b[0m\u001b[0mglob\u001b[0m\u001b[0;34m(\u001b[0m\u001b[0;34m'*.{}'\u001b[0m\u001b[0;34m.\u001b[0m\u001b[0mformat\u001b[0m\u001b[0;34m(\u001b[0m\u001b[0mextension\u001b[0m\u001b[0;34m)\u001b[0m\u001b[0;34m)\u001b[0m\u001b[0;34m\u001b[0m\u001b[0;34m\u001b[0m\u001b[0m\n\u001b[1;32m      5\u001b[0m \u001b[0;32mfor\u001b[0m \u001b[0mf\u001b[0m \u001b[0;32min\u001b[0m \u001b[0mfiles\u001b[0m\u001b[0;34m:\u001b[0m\u001b[0;34m\u001b[0m\u001b[0;34m\u001b[0m\u001b[0m\n",
      "\u001b[0;31mFileNotFoundError\u001b[0m: [Errno 2] No such file or directory: 'data/'"
     ]
    }
   ],
   "source": []
  },
  {
   "cell_type": "code",
   "execution_count": 10,
   "metadata": {},
   "outputs": [
    {
     "data": {
      "text/plain": [
       "[]"
      ]
     },
     "execution_count": 10,
     "metadata": {},
     "output_type": "execute_result"
    }
   ],
   "source": [
    "files"
   ]
  },
  {
   "cell_type": "code",
   "execution_count": null,
   "metadata": {},
   "outputs": [],
   "source": []
  }
 ],
 "metadata": {
  "kernelspec": {
   "display_name": "Python 3.8.3 ('base')",
   "language": "python",
   "name": "python3"
  },
  "language_info": {
   "codemirror_mode": {
    "name": "ipython",
    "version": 3
   },
   "file_extension": ".py",
   "mimetype": "text/x-python",
   "name": "python",
   "nbconvert_exporter": "python",
   "pygments_lexer": "ipython3",
   "version": "3.8.3"
  },
  "orig_nbformat": 4,
  "vscode": {
   "interpreter": {
    "hash": "86a54c9f03817ea864d3508b694a2604854483e2248a474f9b272c2db82d9e0f"
   }
  }
 },
 "nbformat": 4,
 "nbformat_minor": 2
}
